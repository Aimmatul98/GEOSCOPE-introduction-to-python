{
 "cells": [
  {
   "cell_type": "code",
   "execution_count": 1,
   "id": "third-pound",
   "metadata": {},
   "outputs": [
    {
     "name": "stdout",
     "output_type": "stream",
     "text": [
      "Mencoba menulis kode di Jupyter Notebook\n",
      "Sukses~\n"
     ]
    }
   ],
   "source": [
    "print( \"Mencoba menulis kode di Jupyter Notebook\" )\n",
    "print( \"Sukses~\" )"
   ]
  },
  {
   "cell_type": "code",
   "execution_count": 2,
   "id": "lonely-custody",
   "metadata": {},
   "outputs": [
    {
     "name": "stdout",
     "output_type": "stream",
     "text": [
      "Hari ini kita akan menjumlahkan dua bilangan\n",
      "Hasil penjumlahan 10 dan 30 adalah 40\n"
     ]
    }
   ],
   "source": [
    "print( \"Hari ini kita akan menjumlahkan dua bilangan\" )\n",
    "bilangan1 = 10\n",
    "bilangan2 = 30\n",
    "jumlah = bilangan1 + bilangan2\n",
    "print( \"Hasil penjumlahan\" , bilangan1, \"dan\" , bilangan2, \"adalah\" , jumlah)"
   ]
  },
  {
   "cell_type": "code",
   "execution_count": 3,
   "id": "specialized-conditions",
   "metadata": {},
   "outputs": [
    {
     "name": "stdout",
     "output_type": "stream",
     "text": [
      "Hari ini kita akan menjumlahkan dua bilangan\n",
      "Masukkan bilangan pertama10\n",
      "masukkan bilangan kedua20\n",
      "Hasil penjumlahan 10 dan 20 adalah 1020\n"
     ]
    }
   ],
   "source": [
    "print( \"Hari ini kita akan menjumlahkan dua bilangan\" )\n",
    "bilangan1 = input( \"Masukkan bilangan pertama\" )\n",
    "bilangan2 = input( \"masukkan bilangan kedua\" )\n",
    "jumlah = bilangan1 + bilangan2\n",
    "print( \"Hasil penjumlahan\" , bilangan1, \"dan\" , bilangan2, \"adalah\" , jumlah)"
   ]
  },
  {
   "cell_type": "code",
   "execution_count": 4,
   "id": "short-heart",
   "metadata": {},
   "outputs": [
    {
     "name": "stdout",
     "output_type": "stream",
     "text": [
      "Pada cell ini kita akan menjumlahkan dua buah\n",
      "Hasil penjumlahan string adalah 120\n"
     ]
    }
   ],
   "source": [
    "print( \"Pada cell ini kita akan menjumlahkan dua buah\" )\n",
    "bilangan1 = \"1\"\n",
    "bilangan2 = \"20\"\n",
    "jumlah = bilangan1 + bilangan2\n",
    "print( \"Hasil penjumlahan string adalah\" , jumlah)"
   ]
  },
  {
   "cell_type": "code",
   "execution_count": 6,
   "id": "damaged-finance",
   "metadata": {},
   "outputs": [
    {
     "name": "stdout",
     "output_type": "stream",
     "text": [
      "Pada cell ini kita akan menjumlahkan dua bilangan bulat\n",
      "Masukkan bilangan pertama10\n",
      "Masukkan bilangan kedua30\n",
      "Hasil penjumlahan bilangan bulat 1 dan 20 adalah 21\n"
     ]
    }
   ],
   "source": [
    "print(\"Pada cell ini kita akan menjumlahkan dua bilangan bulat\")\n",
    "bilangan1 : input (\"Masukkan bilangan pertama\")\n",
    "bilangan2 :input (\"Masukkan bilangan kedua\")\n",
    "jumlah = int(bilangan1) + int(bilangan2) \n",
    "print (\"Hasil penjumlahan bilangan bulat\", bilangan1, \"dan\", bilangan2, \"adalah\", jumlah)"
   ]
  },
  {
   "cell_type": "code",
   "execution_count": 7,
   "id": "alive-culture",
   "metadata": {},
   "outputs": [
    {
     "name": "stdout",
     "output_type": "stream",
     "text": [
      "Hari ini kita akan menjumlahkan dua bilangan bulat\n",
      "Masukkan bilangan pertama10\n",
      "masukkan bilangan kedua30\n",
      "Hasil penjumlahan bilangan bulat 10 dan 30 adalah 40\n"
     ]
    }
   ],
   "source": [
    "print( \"Hari ini kita akan menjumlahkan dua bilangan bulat\" )\n",
    "bilangan1 = input( \"Masukkan bilangan pertama\" )\n",
    "bilangan2 = input( \"masukkan bilangan kedua\" )\n",
    "jumlah = int( bilangan1) + int( bilangan2)\n",
    "print( \"Hasil penjumlahan bilangan bulat\" , bilangan1, \"dan\" , bilangan2, \"adalah\" , jumlah)"
   ]
  },
  {
   "cell_type": "code",
   "execution_count": 8,
   "id": "twenty-girlfriend",
   "metadata": {},
   "outputs": [
    {
     "name": "stdout",
     "output_type": "stream",
     "text": [
      "Hari ini kita akan menjumlahkan dua bilangan bulat\n",
      "Masukkan bilangan pertama10\n",
      "masukkan bilangan kedua30\n",
      "Hasil penjumlahan bilangan bulat 10 dan 30 adalah 40\n"
     ]
    }
   ],
   "source": [
    "print( \"Hari ini kita akan menjumlahkan dua bilangan bulat\" )\n",
    "bilangan1 = input( \"Masukkan bilangan pertama\" )\n",
    "bilangan2 = input( \"masukkan bilangan kedua\" )\n",
    "jumlah = int( bilangan1) + int( bilangan2)\n",
    "print( \"Hasil penjumlahan bilangan bulat\" , bilangan1, \"dan\" , bilangan2, \"adalah\" , jumlah)"
   ]
  },
  {
   "cell_type": "code",
   "execution_count": 10,
   "id": "legal-aquarium",
   "metadata": {},
   "outputs": [
    {
     "name": "stdout",
     "output_type": "stream",
     "text": [
      "Hari ini kita akan menjumlahkan dua bilangan\n",
      "Masukkan bilangan pertama0.55\n",
      "masukkan bilangan kedua1.4\n",
      "Hasil penjumlahan bilangan bulat 0.55 dan 1.4 adalah 1.95\n"
     ]
    }
   ],
   "source": [
    "print( \"Hari ini kita akan menjumlahkan dua bilangan\" )\n",
    "bilangan1 = input( \"Masukkan bilangan pertama\" )\n",
    "bilangan2 = input( \"masukkan bilangan kedua\" )\n",
    "jumlah = float( bilangan1) + float( bilangan2)\n",
    "print( \"Hasil penjumlahan bilangan bulat\" , bilangan1, \"dan\" , bilangan2, \"adalah\" , jumlah)"
   ]
  },
  {
   "cell_type": "code",
   "execution_count": 11,
   "id": "entitled-columbus",
   "metadata": {},
   "outputs": [],
   "source": [
    "import math"
   ]
  },
  {
   "cell_type": "code",
   "execution_count": 12,
   "id": "practical-control",
   "metadata": {},
   "outputs": [
    {
     "name": "stdout",
     "output_type": "stream",
     "text": [
      "Help on built-in module math:\n",
      "\n",
      "NAME\n",
      "    math\n",
      "\n",
      "DESCRIPTION\n",
      "    This module provides access to the mathematical functions\n",
      "    defined by the C standard.\n",
      "\n",
      "FUNCTIONS\n",
      "    acos(x, /)\n",
      "        Return the arc cosine (measured in radians) of x.\n",
      "    \n",
      "    acosh(x, /)\n",
      "        Return the inverse hyperbolic cosine of x.\n",
      "    \n",
      "    asin(x, /)\n",
      "        Return the arc sine (measured in radians) of x.\n",
      "    \n",
      "    asinh(x, /)\n",
      "        Return the inverse hyperbolic sine of x.\n",
      "    \n",
      "    atan(x, /)\n",
      "        Return the arc tangent (measured in radians) of x.\n",
      "    \n",
      "    atan2(y, x, /)\n",
      "        Return the arc tangent (measured in radians) of y/x.\n",
      "        \n",
      "        Unlike atan(y/x), the signs of both x and y are considered.\n",
      "    \n",
      "    atanh(x, /)\n",
      "        Return the inverse hyperbolic tangent of x.\n",
      "    \n",
      "    ceil(x, /)\n",
      "        Return the ceiling of x as an Integral.\n",
      "        \n",
      "        This is the smallest integer >= x.\n",
      "    \n",
      "    comb(n, k, /)\n",
      "        Number of ways to choose k items from n items without repetition and without order.\n",
      "        \n",
      "        Evaluates to n! / (k! * (n - k)!) when k <= n and evaluates\n",
      "        to zero when k > n.\n",
      "        \n",
      "        Also called the binomial coefficient because it is equivalent\n",
      "        to the coefficient of k-th term in polynomial expansion of the\n",
      "        expression (1 + x)**n.\n",
      "        \n",
      "        Raises TypeError if either of the arguments are not integers.\n",
      "        Raises ValueError if either of the arguments are negative.\n",
      "    \n",
      "    copysign(x, y, /)\n",
      "        Return a float with the magnitude (absolute value) of x but the sign of y.\n",
      "        \n",
      "        On platforms that support signed zeros, copysign(1.0, -0.0)\n",
      "        returns -1.0.\n",
      "    \n",
      "    cos(x, /)\n",
      "        Return the cosine of x (measured in radians).\n",
      "    \n",
      "    cosh(x, /)\n",
      "        Return the hyperbolic cosine of x.\n",
      "    \n",
      "    degrees(x, /)\n",
      "        Convert angle x from radians to degrees.\n",
      "    \n",
      "    dist(p, q, /)\n",
      "        Return the Euclidean distance between two points p and q.\n",
      "        \n",
      "        The points should be specified as sequences (or iterables) of\n",
      "        coordinates.  Both inputs must have the same dimension.\n",
      "        \n",
      "        Roughly equivalent to:\n",
      "            sqrt(sum((px - qx) ** 2.0 for px, qx in zip(p, q)))\n",
      "    \n",
      "    erf(x, /)\n",
      "        Error function at x.\n",
      "    \n",
      "    erfc(x, /)\n",
      "        Complementary error function at x.\n",
      "    \n",
      "    exp(x, /)\n",
      "        Return e raised to the power of x.\n",
      "    \n",
      "    expm1(x, /)\n",
      "        Return exp(x)-1.\n",
      "        \n",
      "        This function avoids the loss of precision involved in the direct evaluation of exp(x)-1 for small x.\n",
      "    \n",
      "    fabs(x, /)\n",
      "        Return the absolute value of the float x.\n",
      "    \n",
      "    factorial(x, /)\n",
      "        Find x!.\n",
      "        \n",
      "        Raise a ValueError if x is negative or non-integral.\n",
      "    \n",
      "    floor(x, /)\n",
      "        Return the floor of x as an Integral.\n",
      "        \n",
      "        This is the largest integer <= x.\n",
      "    \n",
      "    fmod(x, y, /)\n",
      "        Return fmod(x, y), according to platform C.\n",
      "        \n",
      "        x % y may differ.\n",
      "    \n",
      "    frexp(x, /)\n",
      "        Return the mantissa and exponent of x, as pair (m, e).\n",
      "        \n",
      "        m is a float and e is an int, such that x = m * 2.**e.\n",
      "        If x is 0, m and e are both 0.  Else 0.5 <= abs(m) < 1.0.\n",
      "    \n",
      "    fsum(seq, /)\n",
      "        Return an accurate floating point sum of values in the iterable seq.\n",
      "        \n",
      "        Assumes IEEE-754 floating point arithmetic.\n",
      "    \n",
      "    gamma(x, /)\n",
      "        Gamma function at x.\n",
      "    \n",
      "    gcd(x, y, /)\n",
      "        greatest common divisor of x and y\n",
      "    \n",
      "    hypot(...)\n",
      "        hypot(*coordinates) -> value\n",
      "        \n",
      "        Multidimensional Euclidean distance from the origin to a point.\n",
      "        \n",
      "        Roughly equivalent to:\n",
      "            sqrt(sum(x**2 for x in coordinates))\n",
      "        \n",
      "        For a two dimensional point (x, y), gives the hypotenuse\n",
      "        using the Pythagorean theorem:  sqrt(x*x + y*y).\n",
      "        \n",
      "        For example, the hypotenuse of a 3/4/5 right triangle is:\n",
      "        \n",
      "            >>> hypot(3.0, 4.0)\n",
      "            5.0\n",
      "    \n",
      "    isclose(a, b, *, rel_tol=1e-09, abs_tol=0.0)\n",
      "        Determine whether two floating point numbers are close in value.\n",
      "        \n",
      "          rel_tol\n",
      "            maximum difference for being considered \"close\", relative to the\n",
      "            magnitude of the input values\n",
      "          abs_tol\n",
      "            maximum difference for being considered \"close\", regardless of the\n",
      "            magnitude of the input values\n",
      "        \n",
      "        Return True if a is close in value to b, and False otherwise.\n",
      "        \n",
      "        For the values to be considered close, the difference between them\n",
      "        must be smaller than at least one of the tolerances.\n",
      "        \n",
      "        -inf, inf and NaN behave similarly to the IEEE 754 Standard.  That\n",
      "        is, NaN is not close to anything, even itself.  inf and -inf are\n",
      "        only close to themselves.\n",
      "    \n",
      "    isfinite(x, /)\n",
      "        Return True if x is neither an infinity nor a NaN, and False otherwise.\n",
      "    \n",
      "    isinf(x, /)\n",
      "        Return True if x is a positive or negative infinity, and False otherwise.\n",
      "    \n",
      "    isnan(x, /)\n",
      "        Return True if x is a NaN (not a number), and False otherwise.\n",
      "    \n",
      "    isqrt(n, /)\n",
      "        Return the integer part of the square root of the input.\n",
      "    \n",
      "    ldexp(x, i, /)\n",
      "        Return x * (2**i).\n",
      "        \n",
      "        This is essentially the inverse of frexp().\n",
      "    \n",
      "    lgamma(x, /)\n",
      "        Natural logarithm of absolute value of Gamma function at x.\n",
      "    \n",
      "    log(...)\n",
      "        log(x, [base=math.e])\n",
      "        Return the logarithm of x to the given base.\n",
      "        \n",
      "        If the base not specified, returns the natural logarithm (base e) of x.\n",
      "    \n",
      "    log10(x, /)\n",
      "        Return the base 10 logarithm of x.\n",
      "    \n",
      "    log1p(x, /)\n",
      "        Return the natural logarithm of 1+x (base e).\n",
      "        \n",
      "        The result is computed in a way which is accurate for x near zero.\n",
      "    \n",
      "    log2(x, /)\n",
      "        Return the base 2 logarithm of x.\n",
      "    \n",
      "    modf(x, /)\n",
      "        Return the fractional and integer parts of x.\n",
      "        \n",
      "        Both results carry the sign of x and are floats.\n",
      "    \n",
      "    perm(n, k=None, /)\n",
      "        Number of ways to choose k items from n items without repetition and with order.\n",
      "        \n",
      "        Evaluates to n! / (n - k)! when k <= n and evaluates\n",
      "        to zero when k > n.\n",
      "        \n",
      "        If k is not specified or is None, then k defaults to n\n",
      "        and the function returns n!.\n",
      "        \n",
      "        Raises TypeError if either of the arguments are not integers.\n",
      "        Raises ValueError if either of the arguments are negative.\n",
      "    \n",
      "    pow(x, y, /)\n",
      "        Return x**y (x to the power of y).\n",
      "    \n",
      "    prod(iterable, /, *, start=1)\n",
      "        Calculate the product of all the elements in the input iterable.\n",
      "        \n",
      "        The default start value for the product is 1.\n",
      "        \n",
      "        When the iterable is empty, return the start value.  This function is\n",
      "        intended specifically for use with numeric values and may reject\n",
      "        non-numeric types.\n",
      "    \n",
      "    radians(x, /)\n",
      "        Convert angle x from degrees to radians.\n",
      "    \n",
      "    remainder(x, y, /)\n",
      "        Difference between x and the closest integer multiple of y.\n",
      "        \n",
      "        Return x - n*y where n*y is the closest integer multiple of y.\n",
      "        In the case where x is exactly halfway between two multiples of\n",
      "        y, the nearest even value of n is used. The result is always exact.\n",
      "    \n",
      "    sin(x, /)\n",
      "        Return the sine of x (measured in radians).\n",
      "    \n",
      "    sinh(x, /)\n",
      "        Return the hyperbolic sine of x.\n",
      "    \n",
      "    sqrt(x, /)\n",
      "        Return the square root of x.\n",
      "    \n",
      "    tan(x, /)\n",
      "        Return the tangent of x (measured in radians).\n",
      "    \n",
      "    tanh(x, /)\n",
      "        Return the hyperbolic tangent of x.\n",
      "    \n",
      "    trunc(x, /)\n",
      "        Truncates the Real x to the nearest Integral toward 0.\n",
      "        \n",
      "        Uses the __trunc__ magic method.\n",
      "\n",
      "DATA\n",
      "    e = 2.718281828459045\n",
      "    inf = inf\n",
      "    nan = nan\n",
      "    pi = 3.141592653589793\n",
      "    tau = 6.283185307179586\n",
      "\n",
      "FILE\n",
      "    (built-in)\n",
      "\n",
      "\n"
     ]
    }
   ],
   "source": [
    "help (math)\n",
    "\n"
   ]
  },
  {
   "cell_type": "code",
   "execution_count": 13,
   "id": "productive-apollo",
   "metadata": {},
   "outputs": [
    {
     "data": {
      "text/plain": [
       "2.718281828459045"
      ]
     },
     "execution_count": 13,
     "metadata": {},
     "output_type": "execute_result"
    }
   ],
   "source": [
    "math.e"
   ]
  },
  {
   "cell_type": "markdown",
   "id": "dried-complex",
   "metadata": {},
   "source": [
    "math.log(100)"
   ]
  },
  {
   "cell_type": "markdown",
   "id": "sustainable-integer",
   "metadata": {},
   "source": []
  },
  {
   "cell_type": "code",
   "execution_count": 14,
   "id": "outdoor-beaver",
   "metadata": {},
   "outputs": [
    {
     "data": {
      "text/plain": [
       "4.605170185988092"
      ]
     },
     "execution_count": 14,
     "metadata": {},
     "output_type": "execute_result"
    }
   ],
   "source": [
    "math.log(100)"
   ]
  },
  {
   "cell_type": "code",
   "execution_count": 15,
   "id": "forced-nitrogen",
   "metadata": {},
   "outputs": [
    {
     "name": "stdout",
     "output_type": "stream",
     "text": [
      "Help on built-in function log in module math:\n",
      "\n",
      "log(...)\n",
      "    log(x, [base=math.e])\n",
      "    Return the logarithm of x to the given base.\n",
      "    \n",
      "    If the base not specified, returns the natural logarithm (base e) of x.\n",
      "\n"
     ]
    }
   ],
   "source": [
    "help(math.log)"
   ]
  },
  {
   "cell_type": "code",
   "execution_count": 19,
   "id": "forty-mainland",
   "metadata": {},
   "outputs": [],
   "source": [
    "angka_saya = 1000"
   ]
  },
  {
   "cell_type": "code",
   "execution_count": 21,
   "id": "civic-fighter",
   "metadata": {},
   "outputs": [
    {
     "data": {
      "text/plain": [
       "3.0"
      ]
     },
     "execution_count": 21,
     "metadata": {},
     "output_type": "execute_result"
    }
   ],
   "source": [
    "math.log10(angka_saya)"
   ]
  },
  {
   "cell_type": "code",
   "execution_count": 22,
   "id": "economic-shareware",
   "metadata": {},
   "outputs": [
    {
     "data": {
      "text/plain": [
       "25.0"
      ]
     },
     "execution_count": 22,
     "metadata": {},
     "output_type": "execute_result"
    }
   ],
   "source": [
    "nilai = 5\n",
    "nilai_kuadrat = math.pow(nilai,2)\n",
    "nilai_kuadrat"
   ]
  },
  {
   "cell_type": "code",
   "execution_count": 16,
   "id": "cardiovascular-bottom",
   "metadata": {},
   "outputs": [
    {
     "data": {
      "text/plain": [
       "2.0"
      ]
     },
     "execution_count": 16,
     "metadata": {},
     "output_type": "execute_result"
    }
   ],
   "source": [
    "math.log10(100)"
   ]
  },
  {
   "cell_type": "code",
   "execution_count": 23,
   "id": "classified-finder",
   "metadata": {},
   "outputs": [
    {
     "name": "stdout",
     "output_type": "stream",
     "text": [
      "Help on built-in function sin in module math:\n",
      "\n",
      "sin(x, /)\n",
      "    Return the sine of x (measured in radians).\n",
      "\n"
     ]
    }
   ],
   "source": [
    "help(math.sin)"
   ]
  },
  {
   "cell_type": "code",
   "execution_count": 24,
   "id": "artificial-disabled",
   "metadata": {},
   "outputs": [
    {
     "data": {
      "text/plain": [
       "1.0"
      ]
     },
     "execution_count": 24,
     "metadata": {},
     "output_type": "execute_result"
    }
   ],
   "source": [
    "math.sin(math.pi/2)"
   ]
  },
  {
   "cell_type": "code",
   "execution_count": 25,
   "id": "indonesian-screen",
   "metadata": {},
   "outputs": [
    {
     "data": {
      "text/plain": [
       "90.0"
      ]
     },
     "execution_count": 25,
     "metadata": {},
     "output_type": "execute_result"
    }
   ],
   "source": [
    "math.degrees(math.pi/2)"
   ]
  },
  {
   "cell_type": "code",
   "execution_count": 26,
   "id": "painful-encoding",
   "metadata": {},
   "outputs": [
    {
     "data": {
      "text/plain": [
       "1.5707963267948966"
      ]
     },
     "execution_count": 26,
     "metadata": {},
     "output_type": "execute_result"
    }
   ],
   "source": [
    "math.radians(90)"
   ]
  },
  {
   "cell_type": "code",
   "execution_count": 27,
   "id": "honey-latter",
   "metadata": {},
   "outputs": [
    {
     "name": "stdout",
     "output_type": "stream",
     "text": [
      "1.0\n"
     ]
    }
   ],
   "source": [
    "sudut_derajat = 90\n",
    "sudut_radian = math.radians(sudut_derajat)\n",
    "nilai_sinus = math.sin(sudut_radian)\n",
    "print(nilai_sinus)"
   ]
  },
  {
   "cell_type": "markdown",
   "id": "angry-judges",
   "metadata": {},
   "source": [
    "# Merupakan heading level 1\n",
    "## Merupakan heading level 2\n",
    "### Merupakan heading level 3\n",
    "#### Merupakan heading level 4"
   ]
  },
  {
   "cell_type": "markdown",
   "id": "focused-sport",
   "metadata": {},
   "source": [
    "* Pepaya\n",
    "* Jambu\n",
    "*Apel"
   ]
  },
  {
   "cell_type": "markdown",
   "id": "marked-norwegian",
   "metadata": {},
   "source": [
    "1. Menginstall Python\n",
    "2. Menginstall Anaconda\n",
    "3. Menginstall Notebook"
   ]
  },
  {
   "cell_type": "code",
   "execution_count": 28,
   "id": "unauthorized-ticket",
   "metadata": {},
   "outputs": [
    {
     "name": "stderr",
     "output_type": "stream",
     "text": [
      "'[GithubMark]' is not recognized as an internal or external command,\n",
      "operable program or batch file.\n"
     ]
    }
   ],
   "source": [
    "![GithubMark](figures/Github-Mark.png)"
   ]
  },
  {
   "cell_type": "code",
   "execution_count": null,
   "id": "cultural-first",
   "metadata": {},
   "outputs": [],
   "source": []
  },
  {
   "cell_type": "markdown",
   "id": "further-constitution",
   "metadata": {},
   "source": [
    "Kolom 1  | Kolom 2\n",
    "------------  | ----------\n",
    "Konten 1 Kolom 1  | Konten 1 Kolom 2\n",
    "Konten 2 Kolom 1  | Konten 1 Kolom 2"
   ]
  },
  {
   "cell_type": "markdown",
   "id": "external-premiere",
   "metadata": {},
   "source": [
    "![GithubOctocat](https://github.githubassets.com/images/modules/logos_page/Octocat.png)"
   ]
  },
  {
   "cell_type": "markdown",
   "id": "novel-vessel",
   "metadata": {},
   "source": [
    "[Modul Workshop](https://github.com/anangsahroni/geoscope-geohazardworkshop) "
   ]
  },
  {
   "cell_type": "markdown",
   "id": "indonesian-grenada",
   "metadata": {},
   "source": [
    "'''python\n",
    "def pangkat (angka,pangkat) :\n",
    "    hasil = angka**pangkat\n",
    "    retunrn hasil\n",
    "'''"
   ]
  },
  {
   "cell_type": "markdown",
   "id": "compliant-march",
   "metadata": {},
   "source": [
    "'''javascript\n",
    "document.getElementById(\"logo).style.display=\"block\";'''"
   ]
  },
  {
   "cell_type": "markdown",
   "id": "pressed-gibraltar",
   "metadata": {},
   "source": [
    "$$\n",
    "e^{i \\pi} + 1 = 0\n",
    "$$"
   ]
  },
  {
   "cell_type": "markdown",
   "id": "remarkable-civilian",
   "metadata": {},
   "source": [
    "$$\n",
    " \\begin{matrix}\n",
    " 1 & x & x^2 \\\\\n",
    " 1 & y & y^2 \\\\\n",
    " 1 & z & z^2 \\\\\n",
    " \\end{matrix}\n",
    "$$"
   ]
  },
  {
   "cell_type": "markdown",
   "id": "major-venture",
   "metadata": {},
   "source": [
    "$$ \\bbox[5px,border:2px solid red]\n",
    "{e^x=\\lim_{n\\to\\infty} \\left( 1+\\frac{x}{n} \\right)^n\n",
    "\\qquad (2)}$$"
   ]
  },
  {
   "cell_type": "markdown",
   "id": "promotional-vacuum",
   "metadata": {},
   "source": [
    "- [x] Menginstall Jupyter Notebook\n",
    "- [ ] Menjalankan Jupyter Notebook\n",
    "- [ ] Mempelajari sintaks markdown"
   ]
  },
  {
   "cell_type": "markdown",
   "id": "conservative-assurance",
   "metadata": {},
   "source": [
    "> Ini adalah quote yang bagus\n",
    "> - Oleh: Saya sendiri"
   ]
  }
 ],
 "metadata": {
  "kernelspec": {
   "display_name": "Python 3",
   "language": "python",
   "name": "python3"
  },
  "language_info": {
   "codemirror_mode": {
    "name": "ipython",
    "version": 3
   },
   "file_extension": ".py",
   "mimetype": "text/x-python",
   "name": "python",
   "nbconvert_exporter": "python",
   "pygments_lexer": "ipython3",
   "version": "3.8.5"
  }
 },
 "nbformat": 4,
 "nbformat_minor": 5
}
